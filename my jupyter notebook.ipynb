{
 "cells": [
  {
   "cell_type": "markdown",
   "id": "77319db7-7942-4d24-bace-26353e65c7cd",
   "metadata": {},
   "source": [
    "# This is the point of this Jupyter Notebook\n",
    "\n",
    "These are notes for myself\n",
    "1. item 1\n",
    "2. item 2\n",
    "\n",
    "$\\sqrt{2}$"
   ]
  },
  {
   "cell_type": "code",
   "execution_count": 4,
   "id": "ab481a56-6be2-4edc-bae0-f8df48b930fb",
   "metadata": {},
   "outputs": [
    {
     "data": {
      "text/plain": [
       "4.1"
      ]
     },
     "execution_count": 4,
     "metadata": {},
     "output_type": "execute_result"
    }
   ],
   "source": [
    "a = 1    # this variable is this\n",
    "b = 3.1  # this one is that\n",
    "\n",
    "c = a + b # this is the sum of a and b\n",
    "\n",
    "c"
   ]
  },
  {
   "cell_type": "markdown",
   "id": "7b8b430b-f57f-4c25-9628-3ebcaa9ae035",
   "metadata": {},
   "source": []
  },
  {
   "cell_type": "code",
   "execution_count": null,
   "id": "a1076670-9749-4262-b8a6-18d37157be8b",
   "metadata": {},
   "outputs": [],
   "source": []
  }
 ],
 "metadata": {
  "kernelspec": {
   "display_name": "Python 3 (ipykernel)",
   "language": "python",
   "name": "python3"
  },
  "language_info": {
   "codemirror_mode": {
    "name": "ipython",
    "version": 3
   },
   "file_extension": ".py",
   "mimetype": "text/x-python",
   "name": "python",
   "nbconvert_exporter": "python",
   "pygments_lexer": "ipython3",
   "version": "3.9.19"
  }
 },
 "nbformat": 4,
 "nbformat_minor": 5
}
